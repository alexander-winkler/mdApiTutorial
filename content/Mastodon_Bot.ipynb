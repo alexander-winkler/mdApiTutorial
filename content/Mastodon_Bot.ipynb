{
 "cells": [
  {
   "cell_type": "markdown",
   "id": "4d6aed7e",
   "metadata": {},
   "source": [
    "# Ich baue mir einen Mastodon-Bot mit ein paar Zeilen Code und Autdone\n",
    "\n",
    "[Autodone](https://autodone.idh.uni-koeln.de) ist ein Tool, das auf Basis einer importierten Tabelle Posts auf Mastodon veröffentlicht.\n",
    "Eine Anleitung findet sich [hier](https://autodone.idh.uni-koeln.de/usage).\n",
    "\n",
    "Der folgende Code zeigt, wie über die MD-Api Daten gezogen und in ein autodon-kompatibles Format gebracht werden können.\n",
    "Ausgangspunkt ist eine Suche über das MD-Interface ([URL der Suche](https://berlin.museum-digital.de/objects?s=institution%3A29+metadata_rights_images%3A%3DCC_BY-SA&section=results_list&mode=grid&startwert=48&gbreitenat=100).\n",
    "Gerade die rechtliche Situation ist besonders zu beachten, um nicht versehentlich Objekte urheberrechtswidrig zur verwenden.\n",
    "\n",
    "Die Posts werden im folgenden so terminiert, dass der Bot morgen um 12:00 den ersten Beitrag veröffentlicht und dann jeden Tag einen neuen.\n",
    "Die Posts werden jeweils mit einem Vorschaubild versehen.\n",
    "\n",
    "Die Tabelle wird, falls das Notebook lokal läuft, in einer CSV-Datei gespeichert; falls das Notebook in der JupyterLite-Umgebung läuft, wird das Ergebnis einfach im Browser ausgegeben. "
   ]
  },
  {
   "cell_type": "code",
   "execution_count": null,
   "id": "becdef97",
   "metadata": {},
   "outputs": [],
   "source": [
    "import requests"
   ]
  },
  {
   "cell_type": "code",
   "execution_count": null,
   "id": "181a09ab",
   "metadata": {},
   "outputs": [],
   "source": [
    "from datetime import datetime, timedelta\n",
    "\n",
    "def generate_dates(days):\n",
    "    '''Funktion die eine Liste von <days> aufeinanderfolgenden Datumsangaben\n",
    "    erzeugt.'''\n",
    "    today = datetime.now() + timedelta(days = 1)\n",
    "    return [(today + timedelta(days=i)).strftime(\"%d.%m.%Y\") for i in range(days)]"
   ]
  },
  {
   "cell_type": "code",
   "execution_count": null,
   "id": "d0dd0b04",
   "metadata": {},
   "outputs": [],
   "source": [
    "# über die Suchmaske der Weboberfläche konfigurierte Anfrage\n",
    "# JSON erreichbar mit Strg + Rechtsklick => Exportieren\n",
    "# Abgerufen wurden Objekte des Industriesalons Schöneweide mit\n",
    "# geeigneter Lizenz (CC BY-SA)\n",
    "def getMDdata(offset, rows):\n",
    "    apiCall = f\"https://berlin.museum-digital.de/json/objects?&s=institution%3A29+metadata_rights_images%3A%3DCC_BY-SA&&startwert={offset}&gbreitenat={rows}\"\n",
    "    return requests.get(apiCall).json()"
   ]
  },
  {
   "cell_type": "code",
   "execution_count": null,
   "id": "97d5014e",
   "metadata": {},
   "outputs": [],
   "source": [
    "total = getMDdata(0,1)[0].get('total')"
   ]
  },
  {
   "cell_type": "code",
   "execution_count": null,
   "id": "32941e35",
   "metadata": {},
   "outputs": [],
   "source": [
    "rows = 100\n",
    "autodone_table = list()\n",
    "dates = generate_dates(total)\n",
    "\n",
    "autodone_table.append([\"Date\", \"Time\", \"Text\", \"Picture\", \"Pic description\"])\n",
    "\n",
    "for i in range(0,total + 1, rows):\n",
    "    res = getMDdata(i, rows)\n",
    "    for r in res:\n",
    "        autodone_table.append([\n",
    "            dates.pop(0), \"12:00\",\n",
    "            f\"{r.get('objekt_name')} (Link: https://berlin.museum-digital.de/object/{r.get('objekt_id')})\",\n",
    "            r.get('image').replace('data', 'https://asset.museum-digital.org//', 1),\n",
    "            \"\"\n",
    "        ])"
   ]
  },
  {
   "cell_type": "code",
   "execution_count": null,
   "id": "be488d04",
   "metadata": {},
   "outputs": [],
   "source": [
    "import csv\n",
    "try:\n",
    "    ## Bei lokalem Betrieb kann Tabelle als csv gespeichert werden\n",
    "    OUT = open(\"autodone_table.csv\", \"w\")\n",
    "    writer = csv.writer(OUT, delimiter='\\t')\n",
    "    writer.writerows(autodone_table)\n",
    "    OUT.close()\n",
    "    ## Wird der Code in der JupyterLite-Umgebung ausgeführt, kann\n",
    "    ## lokal nichts gespeichert werden. Daher wird die Liste einfach\n",
    "    ## nur unter der Zelle ausgegeben.\n",
    "except OSError:\n",
    "    for row in autodone_table:\n",
    "        print(\"\\t\".join(row))"
   ]
  }
 ],
 "metadata": {
  "language_info": {
   "name": "python"
  }
 },
 "nbformat": 4,
 "nbformat_minor": 5
}
