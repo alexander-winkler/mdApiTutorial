{
 "cells": [
  {
   "cell_type": "code",
   "execution_count": null,
   "id": "a6a1190e",
   "metadata": {},
   "outputs": [],
   "source": [
    "import requests"
   ]
  },
  {
   "cell_type": "markdown",
   "id": "c594e90c",
   "metadata": {},
   "source": [
    "## Suche\n",
    "\n",
    "Der einfachste Weg, den gewünschten API-Aufruf zu konstruieren, führt über die Web-Oberfläche. Hier können die zunächst Suchparameter eingestellt werden, dann per Rechtsklick mit gedrückter Strg-Taste das Kontextmenü aufrufen und unter *Export* das gewünschte Format wählen. Ein Klick öffnet das Suchergebnis im gewünschten Format.\n",
    "\n",
    "Die Webfrontend-Ansicht, die unter der URL <https://berlin.museum-digital.de/objects?s=place:10651> aufrufbar ist, entspricht <https://berlin.museum-digital.de/json/objects?&s=place%3A10651>."
   ]
  },
  {
   "cell_type": "code",
   "execution_count": null,
   "id": "74c0b5d3",
   "metadata": {},
   "outputs": [],
   "source": [
    "requests.get(\"https://berlin.museum-digital.de/json/objects?s=place:10651\").json()"
   ]
  },
  {
   "cell_type": "markdown",
   "id": "587c52bd",
   "metadata": {},
   "source": [
    "## Mehr als 24 Objekte auf einen Streich\n",
    "\n",
    "Standardmäßig gibt das Webinterface und die API 24 Objekte je Aufruf aus. Dieser Wert kann auf max. 100 erhöht werden und mit dem Parameter `gbreitenat` übergeben werden. Über die Treffer kann mit dem Parameter `startwert` iteriert werden, indem `startwert` bei jedem Aufruf um `gbreitenat` erhöht wird. Um sich also eine größere Menge (sprich i.d.R. mehr als 100) an Objekten ausgeben zu lassen, bietet sich folgendes Vorgehen an: https://nat.museum-digital.de/objects?instnr=22&section=results_list&mode=grid&gbreitenat=100"
   ]
  },
  {
   "cell_type": "code",
   "execution_count": null,
   "id": "534eaa40",
   "metadata": {},
   "outputs": [],
   "source": [
    "apiURL = \"https://nat.museum-digital.de/json/objects?&s=gabel\""
   ]
  },
  {
   "cell_type": "code",
   "execution_count": null,
   "id": "d77e6f2e",
   "metadata": {},
   "outputs": [],
   "source": [
    "objektIDs = list()\n",
    "\n",
    "rows = 100\n",
    "offset = 0\n",
    "while True:   \n",
    "    res = requests.get(apiURL + f\"&startwert={offset}&gbreitenat={rows}\")\n",
    "    offset += rows\n",
    "    if 'status' in res.json() and res.json()['status'] == 'Error':\n",
    "        break\n",
    "    else:\n",
    "        for _ in res.json():\n",
    "            objektIDs.append(_['objekt_id'])"
   ]
  },
  {
   "cell_type": "markdown",
   "id": "f0763a2b",
   "metadata": {},
   "source": [
    "Mithilfe der gesammelten IDs kann nun ein Gesamtabzug der Daten erstellt werden."
   ]
  },
  {
   "cell_type": "code",
   "execution_count": null,
   "id": "fa7686df",
   "metadata": {},
   "outputs": [],
   "source": [
    "from tqdm import tqdm # Zeigt den Forschritt an\n",
    "dump = []\n",
    "for ID in tqdm(objektIDs):\n",
    "    obj = requests.get(f\"https://nat.museum-digital.de/json/object/{ID}\").json()\n",
    "    dump.append(obj)"
   ]
  },
  {
   "cell_type": "code",
   "execution_count": null,
   "id": "822f9e93",
   "metadata": {},
   "outputs": [],
   "source": [
    "herstellungsdaten = []\n",
    "for obj in dump:\n",
    "    for event in obj['object_events']:\n",
    "        if event['event_type'] == 1:\n",
    "            if 'time' in event:\n",
    "                time_end =  event['time']['time_end']\n",
    "                try:\n",
    "                    herstellungsdaten.append(int(time_end))\n",
    "                except Exception as e:\n",
    "                    pass"
   ]
  },
  {
   "cell_type": "code",
   "execution_count": null,
   "id": "c8eb8caa",
   "metadata": {},
   "outputs": [],
   "source": [
    "from matplotlib import pyplot as plt\n",
    "\n",
    "plt.hist(herstellungsdaten, bins = 50)\n",
    "plt.show()"
   ]
  },
  {
   "cell_type": "markdown",
   "id": "1eb7d06b",
   "metadata": {},
   "source": [
    "## Liste der Institutionen"
   ]
  },
  {
   "cell_type": "code",
   "execution_count": null,
   "id": "608d9390",
   "metadata": {},
   "outputs": [],
   "source": [
    "res = requests.get(\"https://nat.museum-digital.de/institutions?output=json\")"
   ]
  },
  {
   "cell_type": "code",
   "execution_count": null,
   "id": "89402824",
   "metadata": {},
   "outputs": [],
   "source": [
    "# Die Institutionen mit den 5 größten Online-Beständen\n",
    "\n",
    "# nach größe Sortieren\n",
    "instSortiert = sorted([_ for _ in res.json()], key = lambda x:x['institution_objects'], reverse = True)\n",
    "\n",
    "for _ in instSortiert[:6]:\n",
    "    print(f\"{_['institution_id']}, {_['institution_name']} ({_['institution_objects']} Objekte)\")"
   ]
  },
  {
   "cell_type": "markdown",
   "id": "207493dc",
   "metadata": {},
   "source": [
    "### Sammlungen"
   ]
  },
  {
   "cell_type": "code",
   "execution_count": null,
   "id": "c1461832",
   "metadata": {},
   "outputs": [],
   "source": [
    "res = requests.get(\"https://global.museum-digital.org/json/collections\")"
   ]
  },
  {
   "cell_type": "code",
   "execution_count": null,
   "id": "2cb1f3e7",
   "metadata": {},
   "outputs": [],
   "source": [
    "collections = []\n",
    "for inst in res.json():\n",
    "    for coll in inst['collection']:\n",
    "        collections.append(coll['collection_id'])\n",
    "        if coll['collection_no_of_subcollections'] > 0:\n",
    "            for subcoll in coll['collection_subcollections']:\n",
    "                collections.append(subcoll['subcollection_id'])"
   ]
  },
  {
   "cell_type": "code",
   "execution_count": null,
   "id": "d256dd86",
   "metadata": {},
   "outputs": [],
   "source": [
    "len(collections)"
   ]
  }
 ],
 "metadata": {
  "kernelspec": {
   "display_name": "Python 3.9",
   "language": "python",
   "name": "python3.9"
  },
  "language_info": {
   "codemirror_mode": {
    "name": "ipython",
    "version": 3
   },
   "file_extension": ".py",
   "mimetype": "text/x-python",
   "name": "python",
   "nbconvert_exporter": "python",
   "pygments_lexer": "ipython3",
   "version": "3.9.0"
  }
 },
 "nbformat": 4,
 "nbformat_minor": 5
}
