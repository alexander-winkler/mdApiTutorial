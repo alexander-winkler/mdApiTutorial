{
 "cells": [
  {
   "cell_type": "code",
   "execution_count": 1,
   "id": "48996e53",
   "metadata": {},
   "outputs": [],
   "source": [
    "import requests"
   ]
  },
  {
   "cell_type": "markdown",
   "id": "e724a380",
   "metadata": {},
   "source": [
    "## Suche\n",
    "\n",
    "Der einfachste Weg, den gewünschten API-Aufruf zu konstruieren, führt über die Web-Oberfläche. Hier können die zunächst Suchparameter eingestellt werden, dann per Rechtsklick mit gedrückter Strg-Taste das Kontextmenü aufrufen und unter *Export* das gewünschte Format wählen. Ein Klick öffnet das Suchergebnis im gewünschten Format.\n",
    "\n",
    "Die Webfrontend-Ansicht, die unter der URL <https://berlin.museum-digital.de/objects?s=place:10651> aufrufbar ist, entspricht <https://berlin.museum-digital.de/json/objects?&s=place%3A10651>."
   ]
  },
  {
   "cell_type": "code",
   "execution_count": 108,
   "id": "3421a7d6",
   "metadata": {},
   "outputs": [
    {
     "data": {
      "text/plain": [
       "[{'objekt_id': 140903,\n",
       "  'objekt_name': 'Ansichtskarte \"Wassersturz im Victoria-Park\" und Belle-Alliance Platz, koloriert',\n",
       "  'objekt_inventarnr': '2024/123_4753',\n",
       "  'objekt_erfasst_am': '2024-10-24 17:53:05',\n",
       "  'institution_id': 1,\n",
       "  'institution_name': 'FHXB Friedrichshain-Kreuzberg Museum',\n",
       "  'image': 'data/berlin/images/1/140903-2024123_4753/ansichtskarte_wassersturz/200w_ansichtskarte-wassersturz-im-victoria-park-und-belle-alliance-platz-koloriert-140903-280795-3.jpg',\n",
       "  'image_height': 130,\n",
       "  'total': 288},\n",
       " {'objekt_id': 139354,\n",
       "  'objekt_name': 'Werbepostkarte Buchhandlung „Gebrüder Ulbrich“, Königgrätzer Straße 71, Stresemannstraße',\n",
       "  'objekt_inventarnr': '2024/123_4407',\n",
       "  'objekt_erfasst_am': '2024-10-24 18:13:55',\n",
       "  'institution_id': 1,\n",
       "  'institution_name': 'FHXB Friedrichshain-Kreuzberg Museum',\n",
       "  'image': 'data/berlin/images/1/139354-2024123_4407/werbepostkarte_buchhandlu/200w_werbepostkarte-buchhandlung-gebrueder-ulbrich-koeniggraetzer-straSse-71-stresemannstraSse-837422-3.jpg',\n",
       "  'image_height': 132,\n",
       "  'total': 288},\n",
       " {'objekt_id': 137331,\n",
       "  'objekt_name': 'Ansichtskarte Siegessäule von Cantian, Belle-Aliance-Platz, koloriert',\n",
       "  'objekt_inventarnr': '2024/123_3100',\n",
       "  'objekt_erfasst_am': '2024-10-24 18:54:07',\n",
       "  'institution_id': 1,\n",
       "  'institution_name': 'FHXB Friedrichshain-Kreuzberg Museum',\n",
       "  'image': 'data/berlin/images/1/137331-2024123_3100/ansichtskarte_siegessaeul/200w_ansichtskarte-siegessaeule-von-cantian-belle-aliance-platz-koloriert-137331-013143-3.jpg',\n",
       "  'image_height': 131,\n",
       "  'total': 288},\n",
       " {'objekt_id': 137330,\n",
       "  'objekt_name': 'Ansichtskarte des Belle Alliance-Platzes, koloriert',\n",
       "  'objekt_inventarnr': '2024/123_3099',\n",
       "  'objekt_erfasst_am': '2024-10-24 18:54:08',\n",
       "  'institution_id': 1,\n",
       "  'institution_name': 'FHXB Friedrichshain-Kreuzberg Museum',\n",
       "  'image': 'data/berlin/images/1/137330-2024123_3099/ansichtskarte_des_belle_a/200w_ansichtskarte-des-belle-alliance-platzes-koloriert-137330-299004-3.jpg',\n",
       "  'image_height': 128,\n",
       "  'total': 288},\n",
       " {'objekt_id': 137328,\n",
       "  'objekt_name': 'Ansichtskarte „Belle-Alliance-Platz“, Mehringplatz',\n",
       "  'objekt_inventarnr': '2024/123_3098',\n",
       "  'objekt_erfasst_am': '2024-10-24 18:54:14',\n",
       "  'institution_id': 1,\n",
       "  'institution_name': 'FHXB Friedrichshain-Kreuzberg Museum',\n",
       "  'image': 'data/berlin/images/1/137328-2024123_3098/ansichtskarte_belle-allia/200w_ansichtskarte-belle-alliance-platz-mehringplatz-137328-556905-3.jpg',\n",
       "  'image_height': 133,\n",
       "  'total': 288},\n",
       " {'objekt_id': 137239,\n",
       "  'objekt_name': 'Ansichtskarte \"Café zum Reichskanzler\", Belle-Alliance-Platz 21',\n",
       "  'objekt_inventarnr': '2024/123_3157',\n",
       "  'objekt_erfasst_am': '2024-10-24 18:55:01',\n",
       "  'institution_id': 1,\n",
       "  'institution_name': 'FHXB Friedrichshain-Kreuzberg Museum',\n",
       "  'image': 'data/berlin/images/1/137239-2024123_3157/ansichtskarte_cafe_zum_re/200w_ansichtskarte-cafe-zum-reichskanzler-belle-alliance-platz-21-137239-161307.jpg',\n",
       "  'image_height': 133,\n",
       "  'total': 288},\n",
       " {'objekt_id': 137238,\n",
       "  'objekt_name': 'Ansichtskarte \"Schreibmaschinenhaus\", Belle-Alliance-Platz 20',\n",
       "  'objekt_inventarnr': '2024/123_3156',\n",
       "  'objekt_erfasst_am': '2024-10-24 18:55:11',\n",
       "  'institution_id': 1,\n",
       "  'institution_name': 'FHXB Friedrichshain-Kreuzberg Museum',\n",
       "  'image': 'data/berlin/images/1/137238-2024123_3156/ansichtskarte_schreibmasc/200w_ansichtskarte-schreibmaschinenhaus-belle-alliance-platz-20-137238-606385-3.jpg',\n",
       "  'image_height': 305,\n",
       "  'total': 288},\n",
       " {'objekt_id': 137237,\n",
       "  'objekt_name': 'Ansichtskarte Schreibmaschinengeschäft, Belle-Alliance-Platz 20',\n",
       "  'objekt_inventarnr': '2024/123_3155',\n",
       "  'objekt_erfasst_am': '2024-10-24 18:55:04',\n",
       "  'institution_id': 1,\n",
       "  'institution_name': 'FHXB Friedrichshain-Kreuzberg Museum',\n",
       "  'image': 'data/berlin/images/1/137237-2024123_3155/ansichtskarte_schreibmasc/200w_ansichtskarte-schreibmaschinengeschaeft-belle-alliance-platz-20-137237-592768-3.jpg',\n",
       "  'image_height': 130,\n",
       "  'total': 288},\n",
       " {'objekt_id': 137236,\n",
       "  'objekt_name': 'Ansichtskarte Weinlokal \"Bodega\", Belle-Alliance-Platz 19',\n",
       "  'objekt_inventarnr': '2024/123_3154',\n",
       "  'objekt_erfasst_am': '2024-10-24 18:55:18',\n",
       "  'institution_id': 1,\n",
       "  'institution_name': 'FHXB Friedrichshain-Kreuzberg Museum',\n",
       "  'image': 'data/berlin/images/1/137236-2024123_3154/ansichtskarte_weinlokal_b/200w_ansichtskarte-weinlokal-bodega-belle-alliance-platz-19-137236-761776-3.jpg',\n",
       "  'image_height': 131,\n",
       "  'total': 288},\n",
       " {'objekt_id': 137235,\n",
       "  'objekt_name': 'Ansichtskarte Stellenvermittlungsbüro, Belle-Alliance-Platz 17',\n",
       "  'objekt_inventarnr': '2024/123_3153',\n",
       "  'objekt_erfasst_am': '2024-10-24 18:55:07',\n",
       "  'institution_id': 1,\n",
       "  'institution_name': 'FHXB Friedrichshain-Kreuzberg Museum',\n",
       "  'image': 'data/berlin/images/1/137235-2024123_3153/ansichtskarte_stellenverm/200w_ansichtskarte-stellenvermittlungsbuero-belle-alliance-platz-17-137235-099217-3.jpg',\n",
       "  'image_height': 151,\n",
       "  'total': 288},\n",
       " {'objekt_id': 137234,\n",
       "  'objekt_name': 'Ansichtskarte Belle-Alliance-Platz 17',\n",
       "  'objekt_inventarnr': '2024/123_3152',\n",
       "  'objekt_erfasst_am': '2024-10-24 18:55:08',\n",
       "  'institution_id': 1,\n",
       "  'institution_name': 'FHXB Friedrichshain-Kreuzberg Museum',\n",
       "  'image': 'data/berlin/images/1/137234-2024123_3152/ansichtskarte_belle-allia/200w_ansichtskarte-belle-alliance-platz-17-137234-859927-3.jpg',\n",
       "  'image_height': 302,\n",
       "  'total': 288},\n",
       " {'objekt_id': 137233,\n",
       "  'objekt_name': 'Ansichtskarte \"Erlanger Reif-Bräu\", Belle-Alliance-Straße 15 [2/2]',\n",
       "  'objekt_inventarnr': '2024/123_3151',\n",
       "  'objekt_erfasst_am': '2024-10-24 18:55:10',\n",
       "  'institution_id': 1,\n",
       "  'institution_name': 'FHXB Friedrichshain-Kreuzberg Museum',\n",
       "  'image': 'data/berlin/images/1/137233-2024123_3151/ansichtskarte_erlanger_re/200w_ansichtskarte-erlanger-reif-braeu-belle-alliance-straSse-15-22-137233-582951-3.jpg',\n",
       "  'image_height': 132,\n",
       "  'total': 288},\n",
       " {'objekt_id': 137232,\n",
       "  'objekt_name': 'Ansichtskarte \"Erlanger Reif-Bräu\", Belle-Alliance-Straße 15 [1/2]',\n",
       "  'objekt_inventarnr': '2024/123_3150',\n",
       "  'objekt_erfasst_am': '2024-10-24 18:55:12',\n",
       "  'institution_id': 1,\n",
       "  'institution_name': 'FHXB Friedrichshain-Kreuzberg Museum',\n",
       "  'image': 'data/berlin/images/1/137232-2024123_3150/ansichtskarte_erlanger_re/200w_ansichtskarte-erlanger-reif-braeu-belle-alliance-straSse-15-12-137232-841915-3.jpg',\n",
       "  'image_height': 130,\n",
       "  'total': 288},\n",
       " {'objekt_id': 137231,\n",
       "  'objekt_name': 'Ansichtskarte \"Gruss aus Café Riedel\", Belle-Alliance-Platz 13 [2/2]',\n",
       "  'objekt_inventarnr': '2024/123_3149',\n",
       "  'objekt_erfasst_am': '2024-10-24 18:55:14',\n",
       "  'institution_id': 1,\n",
       "  'institution_name': 'FHXB Friedrichshain-Kreuzberg Museum',\n",
       "  'image': 'data/berlin/images/1/137231-2024123_3149/ansichtskarte_gruss_aus_c/200w_ansichtskarte-gruss-aus-cafe-riedel-belle-alliance-platz-13-22-137231-674498-3.jpg',\n",
       "  'image_height': 130,\n",
       "  'total': 288},\n",
       " {'objekt_id': 137230,\n",
       "  'objekt_name': 'Ansichtskarte \"Gruss aus Café Riedel\", Belle-Alliance-Platz 13 [1/2]',\n",
       "  'objekt_inventarnr': '2024/123_3148',\n",
       "  'objekt_erfasst_am': '2024-10-24 18:55:31',\n",
       "  'institution_id': 1,\n",
       "  'institution_name': 'FHXB Friedrichshain-Kreuzberg Museum',\n",
       "  'image': 'data/berlin/images/1/137230-2024123_3148/ansichtskarte_gruss_aus_c/200w_ansichtskarte-gruss-aus-cafe-riedel-belle-alliance-platz-13-12-137230-243525-3.jpg',\n",
       "  'image_height': 131,\n",
       "  'total': 288},\n",
       " {'objekt_id': 137229,\n",
       "  'objekt_name': 'Ansichtskarte \"Café Riedel\", Belle-Alliance-Platz 13 [2/2]',\n",
       "  'objekt_inventarnr': '2024/123_3147',\n",
       "  'objekt_erfasst_am': '2024-10-24 18:55:16',\n",
       "  'institution_id': 1,\n",
       "  'institution_name': 'FHXB Friedrichshain-Kreuzberg Museum',\n",
       "  'image': 'data/berlin/images/1/137229-2024123_3147/ansichtskarte_cafe_riedel/200w_ansichtskarte-cafe-riedel-belle-alliance-platz-13-22-137229-650826-3.jpg',\n",
       "  'image_height': 128,\n",
       "  'total': 288},\n",
       " {'objekt_id': 137228,\n",
       "  'objekt_name': 'Ansichtskarte \"Café Riedel\", Belle-Alliance-Platz 13 [1/2]',\n",
       "  'objekt_inventarnr': '2024/123_3146',\n",
       "  'objekt_erfasst_am': '2024-10-24 18:55:19',\n",
       "  'institution_id': 1,\n",
       "  'institution_name': 'FHXB Friedrichshain-Kreuzberg Museum',\n",
       "  'image': 'data/berlin/images/1/137228-2024123_3146/ansichtskarte_cafe_riedel/200w_ansichtskarte-cafe-riedel-belle-alliance-platz-13-12-137228-901530-3.jpg',\n",
       "  'image_height': 133,\n",
       "  'total': 288},\n",
       " {'objekt_id': 137227,\n",
       "  'objekt_name': 'Ansichtskarte \"Kaffee Riedel\", Belle-Alliance-Platz 13',\n",
       "  'objekt_inventarnr': '2024/123_3145',\n",
       "  'objekt_erfasst_am': '2024-10-24 18:55:20',\n",
       "  'institution_id': 1,\n",
       "  'institution_name': 'FHXB Friedrichshain-Kreuzberg Museum',\n",
       "  'image': 'data/berlin/images/1/137227-2024123_3145/ansichtskarte_kaffee_ried/200w_ansichtskarte-kaffee-riedel-belle-alliance-platz-13-137227-604191-3.jpg',\n",
       "  'image_height': 132,\n",
       "  'total': 288},\n",
       " {'objekt_id': 137226,\n",
       "  'objekt_name': 'Ansichtskarte Gastraum \"Hamburg ahoi\", Belle-Alliance-Platz 12',\n",
       "  'objekt_inventarnr': '2024/123_3144',\n",
       "  'objekt_erfasst_am': '2024-10-24 18:55:46',\n",
       "  'institution_id': 1,\n",
       "  'institution_name': 'FHXB Friedrichshain-Kreuzberg Museum',\n",
       "  'image': 'data/berlin/images/1/137226-2024123_3144/ansichtskarte_gastraum_ha/200w_ansichtskarte-gastraum-hamburg-ahoi-belle-alliance-platz-12-137226-091294-3.jpg',\n",
       "  'image_height': 132,\n",
       "  'total': 288},\n",
       " {'objekt_id': 137225,\n",
       "  'objekt_name': 'Ansichtskarte Barbetrieb \"Hamburg ahoi\", Belle-Alliance-Platz 12',\n",
       "  'objekt_inventarnr': '2024/123_3143',\n",
       "  'objekt_erfasst_am': '2024-10-24 18:55:48',\n",
       "  'institution_id': 1,\n",
       "  'institution_name': 'FHXB Friedrichshain-Kreuzberg Museum',\n",
       "  'image': 'data/berlin/images/1/137225-2024123_3143/ansichtskarte_barbetrieb_/200w_ansichtskarte-barbetrieb-hamburg-ahoi-belle-alliance-platz-12-137225-234723-3.jpg',\n",
       "  'image_height': 131,\n",
       "  'total': 288},\n",
       " {'objekt_id': 137224,\n",
       "  'objekt_name': 'Ansichtskarte Grand Restaurant \"Fürst Blücher\", Belle-Alliance-Platz 12',\n",
       "  'objekt_inventarnr': '2024/123_3142',\n",
       "  'objekt_erfasst_am': '2024-10-24 18:55:23',\n",
       "  'institution_id': 1,\n",
       "  'institution_name': 'FHXB Friedrichshain-Kreuzberg Museum',\n",
       "  'image': 'data/berlin/images/1/137224-2024123_3142/ansichtskarte_grand_resta/200w_ansichtskarte-grand-restaurant-fuerst-bluecher-belle-alliance-platz-12-137224-249816-3.jpg',\n",
       "  'image_height': 137,\n",
       "  'total': 288},\n",
       " {'objekt_id': 137223,\n",
       "  'objekt_name': 'Ansichtskarte Café \"Süd-West\", Belle-Alliance-Platz, koloriert',\n",
       "  'objekt_inventarnr': '2024/123_3141',\n",
       "  'objekt_erfasst_am': '2024-10-24 18:55:25',\n",
       "  'institution_id': 1,\n",
       "  'institution_name': 'FHXB Friedrichshain-Kreuzberg Museum',\n",
       "  'image': 'data/berlin/images/1/137223-2024123_3141/ansichtskarte_cafe_sued-w/200w_ansichtskarte-cafe-sued-west-belle-alliance-platz-koloriert-137223-950254-3.jpg',\n",
       "  'image_height': 131,\n",
       "  'total': 288},\n",
       " {'objekt_id': 137222,\n",
       "  'objekt_name': 'Ansichtskarte Café und Konditorei \"Süd-West\", Belle-Alliance-Platz 9',\n",
       "  'objekt_inventarnr': '2024/123_3140',\n",
       "  'objekt_erfasst_am': '2024-10-24 18:55:27',\n",
       "  'institution_id': 1,\n",
       "  'institution_name': 'FHXB Friedrichshain-Kreuzberg Museum',\n",
       "  'image': 'data/berlin/images/1/137222-2024123_3140/ansichtskarte_cafe_und_ko/200w_ansichtskarte-cafe-und-konditorei-sued-west-belle-alliance-platz-9-137222-966139-3.jpg',\n",
       "  'image_height': 131,\n",
       "  'total': 288},\n",
       " {'objekt_id': 137221,\n",
       "  'objekt_name': 'Ansichtskarte Gastraum \"Café Süd-West\", Belle-Alliance-Platz 9',\n",
       "  'objekt_inventarnr': '2024/123_3139',\n",
       "  'objekt_erfasst_am': '2024-10-24 18:55:51',\n",
       "  'institution_id': 1,\n",
       "  'institution_name': 'FHXB Friedrichshain-Kreuzberg Museum',\n",
       "  'image': 'data/berlin/images/1/137221-2024123_3139/ansichtskarte_gastraum_ca/200w_ansichtskarte-gastraum-cafe-sued-west-belle-alliance-platz-9-137221-205170-3.jpg',\n",
       "  'image_height': 131,\n",
       "  'total': 288}]"
      ]
     },
     "execution_count": 108,
     "metadata": {},
     "output_type": "execute_result"
    }
   ],
   "source": [
    "requests.get(\"https://berlin.museum-digital.de/json/objects?s=place:10651\").json()"
   ]
  },
  {
   "cell_type": "markdown",
   "id": "73a54fd1",
   "metadata": {},
   "source": [
    "## Mehr als 24 Objekte auf einen Streich\n",
    "\n",
    "Standardmäßig gibt das Webinterface und die API 24 Objekte je Aufruf aus. Dieser Wert kann auf max. 100 erhöht werden und mit dem Parameter `gbreitenat` übergeben werden. Über die Treffer kann mit dem Parameter `startwert` iteriert werden, indem `startwert` bei jedem Aufruf um `gbreitenat` erhöht wird. Um sich also eine größere Menge (sprich i.d.R. mehr als 100) an Objekten ausgeben zu lassen, bietet sich folgendes Vorgehen an: https://nat.museum-digital.de/objects?instnr=22&section=results_list&mode=grid&gbreitenat=100"
   ]
  },
  {
   "cell_type": "code",
   "execution_count": 91,
   "id": "8cc0bfb0",
   "metadata": {},
   "outputs": [],
   "source": [
    "apiURL = \"https://nat.museum-digital.de/json/objects?&s=gabel\""
   ]
  },
  {
   "cell_type": "code",
   "execution_count": 100,
   "id": "c2ca84e2",
   "metadata": {},
   "outputs": [],
   "source": [
    "objektIDs = list()\n",
    "\n",
    "rows = 100\n",
    "offset = 0\n",
    "while True:   \n",
    "    res = requests.get(apiURL + f\"&startwert={offset}&gbreitenat={rows}\")\n",
    "    offset += rows\n",
    "    if 'status' in res.json() and res.json()['status'] == 'Error':\n",
    "        break\n",
    "    else:\n",
    "        for _ in res.json():\n",
    "            objektIDs.append(_['objekt_id'])"
   ]
  },
  {
   "cell_type": "markdown",
   "id": "37cc0be2",
   "metadata": {},
   "source": [
    "Mithilfe der gesammelten IDs kann nun ein Gesamtabzug der Daten erstellt werden."
   ]
  },
  {
   "cell_type": "code",
   "execution_count": 106,
   "id": "e61e6c10",
   "metadata": {},
   "outputs": [],
   "source": [
    "from tqdm import tqdm # Zeigt den Forschritt an\n",
    "dump = []\n",
    "for ID in tqdm(objektIDs):\n",
    "    obj = requests.get(f\"https://nat.museum-digital.de/json/object/{ID}\").json()\n",
    "    dump.append(obj)"
   ]
  },
  {
   "cell_type": "markdown",
   "id": "c5550116",
   "metadata": {},
   "source": [
    "## Liste der Institutionen"
   ]
  },
  {
   "cell_type": "code",
   "execution_count": 10,
   "id": "38bc7d6c",
   "metadata": {},
   "outputs": [],
   "source": [
    "res = requests.get(\"https://nat.museum-digital.de/institutions?output=json\")"
   ]
  },
  {
   "cell_type": "code",
   "execution_count": 29,
   "id": "85d6505c",
   "metadata": {},
   "outputs": [
    {
     "name": "stdout",
     "output_type": "stream",
     "text": [
      "583, Ethnologisches Museum (76993 Objekte)\n",
      "820, Herzog Anton Ulrich-Museum (72615 Objekte)\n",
      "589, Münzkabinett (48683 Objekte)\n",
      "588, Museum für Vor- und Frühgeschichte (24933 Objekte)\n",
      "587, Kupferstichkabinett (22293 Objekte)\n",
      "585, Kunstbibliothek (20356 Objekte)\n"
     ]
    }
   ],
   "source": [
    "# Die Institutionen mit den 5 größten Online-Beständen\n",
    "\n",
    "# nach größe Sortieren\n",
    "instSortiert = sorted([_ for _ in res.json()], key = lambda x:x['institution_objects'], reverse = True)\n",
    "\n",
    "for _ in instSortiert[:6]:\n",
    "    print(f\"{_['institution_id']}, {_['institution_name']} ({_['institution_objects']} Objekte)\")"
   ]
  },
  {
   "cell_type": "markdown",
   "id": "477e3155",
   "metadata": {},
   "source": [
    "### Sammlungen"
   ]
  },
  {
   "cell_type": "code",
   "execution_count": 41,
   "id": "efd4eff4",
   "metadata": {},
   "outputs": [],
   "source": [
    "res = requests.get(\"https://global.museum-digital.org/json/collections\")"
   ]
  },
  {
   "cell_type": "code",
   "execution_count": 42,
   "id": "76308919",
   "metadata": {},
   "outputs": [],
   "source": [
    "collections = []\n",
    "for inst in res.json():\n",
    "    for coll in inst['collection']:\n",
    "        collections.append(coll['collection_id'])\n",
    "        if coll['collection_no_of_subcollections'] > 0:\n",
    "            for subcoll in coll['collection_subcollections']:\n",
    "                collections.append(subcoll['subcollection_id'])"
   ]
  },
  {
   "cell_type": "code",
   "execution_count": 40,
   "id": "6f91af18",
   "metadata": {},
   "outputs": [
    {
     "data": {
      "text/plain": [
       "9389"
      ]
     },
     "execution_count": 40,
     "metadata": {},
     "output_type": "execute_result"
    }
   ],
   "source": [
    "len(collections)"
   ]
  }
 ],
 "metadata": {
  "kernelspec": {
   "display_name": "Python 3.9",
   "language": "python",
   "name": "python3.9"
  },
  "language_info": {
   "codemirror_mode": {
    "name": "ipython",
    "version": 3
   },
   "file_extension": ".py",
   "mimetype": "text/x-python",
   "name": "python",
   "nbconvert_exporter": "python",
   "pygments_lexer": "ipython3",
   "version": "3.9.0"
  }
 },
 "nbformat": 4,
 "nbformat_minor": 5
}
