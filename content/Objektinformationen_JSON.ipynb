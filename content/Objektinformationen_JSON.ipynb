{
 "cells": [
  {
   "cell_type": "markdown",
   "id": "6bfd3384",
   "metadata": {},
   "source": [
    "# Informationen zu einem Einzelobjekt im JSON-Format"
   ]
  },
  {
   "cell_type": "code",
   "execution_count": null,
   "id": "56b2230c",
   "metadata": {},
   "outputs": [],
   "source": [
    "import requests"
   ]
  },
  {
   "cell_type": "markdown",
   "id": "be1cab61",
   "metadata": {},
   "source": [
    "### Informationen zu einem Objekt abrufen"
   ]
  },
  {
   "cell_type": "code",
   "execution_count": null,
   "id": "b595b2e0",
   "metadata": {},
   "outputs": [],
   "source": [
    "objID = 143188\n",
    "url = f\"https://bawue.museum-digital.de/json/object/{objID}\""
   ]
  },
  {
   "cell_type": "code",
   "execution_count": null,
   "id": "5413cb9b",
   "metadata": {},
   "outputs": [],
   "source": [
    "res = requests.get(url)"
   ]
  },
  {
   "cell_type": "code",
   "execution_count": null,
   "id": "8b424a81",
   "metadata": {},
   "outputs": [],
   "source": [
    "# Übersicht über die Struktur des Datensatzes\n",
    "import json\n",
    "print(json.dumps(res.json(), indent=4))"
   ]
  },
  {
   "cell_type": "code",
   "execution_count": null,
   "id": "6d6950eb",
   "metadata": {},
   "outputs": [],
   "source": [
    "# Keys und Datentyp des korrespondierenden Werts\n",
    "# im Datensatzobjekt\n",
    "for key, datentyp in res.json().items():\n",
    "    print(f\"* {key} ({type(datentyp).__name__})\")"
   ]
  },
  {
   "cell_type": "code",
   "execution_count": null,
   "id": "bec2ec08",
   "metadata": {},
   "outputs": [],
   "source": [
    "# Objekt-ID des Objekts\n",
    "res.json()['object_id']"
   ]
  },
  {
   "cell_type": "code",
   "execution_count": null,
   "id": "b56f899a",
   "metadata": {},
   "outputs": [],
   "source": [
    "# Objektmaße\n",
    "res.json()['object_dimensions']"
   ]
  },
  {
   "cell_type": "code",
   "execution_count": null,
   "id": "54be9608",
   "metadata": {},
   "outputs": [],
   "source": [
    "# Metadaten-Lizenz des Objekts\n",
    "res.json()['licence']['metadata_rights_status']"
   ]
  },
  {
   "cell_type": "code",
   "execution_count": null,
   "id": "9926823b",
   "metadata": {},
   "outputs": [],
   "source": [
    "# URLs der Bilder zu einem Objekt\n",
    "# Die Bild-URLs setzen sich zusammen aus\n",
    "# URL: https://asset.museum-digital.org/ + Subdomain/Portal-Kürzel + folder + filename_loc\n",
    "imgUrl = \"https://asset.museum-digital.org/\"\n",
    "subdomain = url.rpartition('//')[2].partition('.')[0]\n",
    "\n",
    "for img in res.json()['object_images']:\n",
    "    print(imgUrl + subdomain + \"/\" + img['folder'] + \"/\" + img['filename_loc'])\n",
    "    print(\"Lizenz: \", img['rights'])"
   ]
  },
  {
   "cell_type": "code",
   "execution_count": null,
   "id": "2045c168",
   "metadata": {},
   "outputs": [],
   "source": [
    "# IIIF-Manifest\n",
    "manifestBasis = \"/\".join(url.split('/')[:3])\n",
    "IIIF = f\"{manifestBasis}/apis/iiif-presentation/{objID}/manifest\"\n",
    "print(IIIF)"
   ]
  },
  {
   "cell_type": "code",
   "execution_count": null,
   "id": "c89f6975",
   "metadata": {},
   "outputs": [],
   "source": []
  }
 ],
 "metadata": {
  "kernelspec": {
   "display_name": "Python 3.9",
   "language": "python",
   "name": "python3.9"
  },
  "language_info": {
   "codemirror_mode": {
    "name": "ipython",
    "version": 3
   },
   "file_extension": ".py",
   "mimetype": "text/x-python",
   "name": "python",
   "nbconvert_exporter": "python",
   "pygments_lexer": "ipython3",
   "version": "3.9.0"
  }
 },
 "nbformat": 4,
 "nbformat_minor": 5
}
