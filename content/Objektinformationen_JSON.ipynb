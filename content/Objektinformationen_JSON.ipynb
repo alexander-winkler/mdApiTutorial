{
 "cells": [
  {
   "cell_type": "markdown",
   "id": "6bfd3384",
   "metadata": {},
   "source": [
    "# Informationen zu einem Einzelobjekt im JSON-Format"
   ]
  },
  {
   "cell_type": "code",
   "execution_count": 2,
   "id": "56b2230c",
   "metadata": {},
   "outputs": [],
   "source": [
    "import requests"
   ]
  },
  {
   "cell_type": "markdown",
   "id": "be1cab61",
   "metadata": {},
   "source": [
    "### Informationen zu einem Objekt abrufen"
   ]
  },
  {
   "cell_type": "code",
   "execution_count": 3,
   "id": "b595b2e0",
   "metadata": {},
   "outputs": [],
   "source": [
    "objID = 143188\n",
    "url = f\"https://bawue.museum-digital.de/json/object/{objID}\""
   ]
  },
  {
   "cell_type": "code",
   "execution_count": 4,
   "id": "5413cb9b",
   "metadata": {},
   "outputs": [],
   "source": [
    "res = requests.get(url)"
   ]
  },
  {
   "cell_type": "code",
   "execution_count": 15,
   "id": "8b424a81",
   "metadata": {},
   "outputs": [
    {
     "name": "stdout",
     "output_type": "stream",
     "text": [
      "{\n",
      "    \"objekt_socialmedia\": 1,\n",
      "    \"langs\": [\n",
      "        \"de\"\n",
      "    ],\n",
      "    \"exhibitions\": {\n",
      "        \"ongoing\": [],\n",
      "        \"past\": [],\n",
      "        \"upcoming\": []\n",
      "    },\n",
      "    \"articles\": [],\n",
      "    \"licence\": {\n",
      "        \"metadata_rights_holder\": \"Lobdengau Museum\",\n",
      "        \"metadata_rights_status\": \"CC BY-NC-SA\"\n",
      "    },\n",
      "    \"additional\": [],\n",
      "    \"transcripts\": {\n",
      "        \"original\": [],\n",
      "        \"translation\": []\n",
      "    },\n",
      "    \"reference_to_sources\": [],\n",
      "    \"documents\": [],\n",
      "    \"published_in\": [],\n",
      "    \"markings\": [],\n",
      "    \"object_id\": 143188,\n",
      "    \"object_inventory_number\": \"LML 0037-34\",\n",
      "    \"object_type\": \"Gef\\u00e4\\u00df\",\n",
      "    \"object_name\": \"R\\u00f6mischer Topf mit Lippenrand\",\n",
      "    \"object_description\": \"Der bauchige Keramiktopf mit Lippenrand wurde 1966 bei Kanalisationsarbeiten in der S\\u00fcdstadt von Ladenburg entdeckt. Seine zusammengesetzten Bruchst\\u00fccke sind modern erg\\u00e4nzt.\\r\\nEr stammt aus der Kastellzeit Lopodunums.\",\n",
      "    \"object_material_technique\": \"Keramik\",\n",
      "    \"object_dimensions\": \"erg\\u00e4nzt: H: 15,2 cm; Dm (Rand): 11,5 cm; Dm (Boden): 6,1 cm; Dm (max.): 17 cm\",\n",
      "    \"object_last_updated\": \"2024-10-23 17:15:57\",\n",
      "    \"object_institution\": {\n",
      "        \"institution_id\": 161,\n",
      "        \"institution_name\": \"Lobdengau-Museum Ladenburg\"\n",
      "    },\n",
      "    \"object_collection\": [\n",
      "        {\n",
      "            \"collection_id\": 703,\n",
      "            \"collection_name\": \"Arch\\u00e4ologische Sammlung (R\\u00f6mische Abteilung)\"\n",
      "        }\n",
      "    ],\n",
      "    \"object_images\": [\n",
      "        {\n",
      "            \"quell_id\": 139177,\n",
      "            \"name\": \"R\\u00f6mischer Topf mit Lippenrand\",\n",
      "            \"is_main\": \"j\",\n",
      "            \"order\": 1,\n",
      "            \"folder\": \"images/161/143188-lml_0037-34/roemischer_topf_mit_lippe\",\n",
      "            \"filename_loc\": \"roemischer-topf-mit-lippenrand-143188-780341.jpg\",\n",
      "            \"beschreibung\": \"\",\n",
      "            \"owner\": \"Lobdengau-Museum Ladenburg\",\n",
      "            \"creator\": \"Lobdengau-Museum Ladenburg\",\n",
      "            \"rights\": \"CC BY-NC-SA\",\n",
      "            \"type\": \"image\",\n",
      "            \"intern\": \"j\",\n",
      "            \"preview\": \"200w_roemischer-topf-mit-lippenrand-143188-780341.jpg\"\n",
      "        }\n",
      "    ],\n",
      "    \"object_events\": [\n",
      "        {\n",
      "            \"sources\": [],\n",
      "            \"event_id\": 400376,\n",
      "            \"event_type\": 1,\n",
      "            \"time_id\": 147412,\n",
      "            \"event_time_certain\": \"j\",\n",
      "            \"people_id\": 0,\n",
      "            \"event_people_certain\": \"j\",\n",
      "            \"place_id\": 70650,\n",
      "            \"event_place_certain\": \"j\",\n",
      "            \"event_note\": \"\",\n",
      "            \"time\": {\n",
      "                \"time_name\": \"74-100 n.Chr.\",\n",
      "                \"time_start\": \"0074\",\n",
      "                \"time_end\": \"0100\"\n",
      "            },\n",
      "            \"place\": {\n",
      "                \"place_id\": 70650,\n",
      "                \"place_name\": \"Ladenburg\",\n",
      "                \"place_tgn\": 0,\n",
      "                \"place_geonames\": 6558055,\n",
      "                \"place_latitude\": 49.47194290161133,\n",
      "                \"place_longitude\": 8.609167098999023,\n",
      "                \"place_zoom\": 9,\n",
      "                \"place_note\": \"\\\"Ladenburg ist eine Stadt im baden-w\\u00fcrttembergischen Rhein-Neckar-Kreis. Bekannt ist die R\\u00f6merstadt f\\u00fcr ihre denkmalgesch\\u00fctzte Altstadt, als Wirkungsort von Carl Benz und ihre Geschichte, die bis in die keltische- und r\\u00f6mische Zeit zur\\u00fcckreicht, aus dieser stammt der Name Lokudunum (Seeburg).\\r\\n\\r\\nHeute ist Ladenburg vor allem ein bedeutender Wirtschaftsstandort (u. a. ABB und Heidelberg Pharma) und attraktiver Wohnort, der von seiner N\\u00e4he zu den Universit\\u00e4tsst\\u00e4dten Heidelberg und Mannheim profitiert.\\\" - (de.wikipedia.org 10.03.2021)\"\n",
      "            },\n",
      "            \"event_type_name\": \"Hergestellt\"\n",
      "        },\n",
      "        {\n",
      "            \"sources\": [],\n",
      "            \"event_id\": 400377,\n",
      "            \"event_type\": 2,\n",
      "            \"time_id\": 551,\n",
      "            \"event_time_certain\": \"j\",\n",
      "            \"people_id\": 0,\n",
      "            \"event_people_certain\": \"j\",\n",
      "            \"place_id\": 70650,\n",
      "            \"event_place_certain\": \"j\",\n",
      "            \"event_note\": \"\",\n",
      "            \"time\": {\n",
      "                \"time_name\": \"1966\",\n",
      "                \"time_start\": \"1966\",\n",
      "                \"time_end\": \"1966\"\n",
      "            },\n",
      "            \"place\": {\n",
      "                \"place_id\": 70650,\n",
      "                \"place_name\": \"Ladenburg\",\n",
      "                \"place_tgn\": 0,\n",
      "                \"place_geonames\": 6558055,\n",
      "                \"place_latitude\": 49.47194290161133,\n",
      "                \"place_longitude\": 8.609167098999023,\n",
      "                \"place_zoom\": 9,\n",
      "                \"place_note\": \"\\\"Ladenburg ist eine Stadt im baden-w\\u00fcrttembergischen Rhein-Neckar-Kreis. Bekannt ist die R\\u00f6merstadt f\\u00fcr ihre denkmalgesch\\u00fctzte Altstadt, als Wirkungsort von Carl Benz und ihre Geschichte, die bis in die keltische- und r\\u00f6mische Zeit zur\\u00fcckreicht, aus dieser stammt der Name Lokudunum (Seeburg).\\r\\n\\r\\nHeute ist Ladenburg vor allem ein bedeutender Wirtschaftsstandort (u. a. ABB und Heidelberg Pharma) und attraktiver Wohnort, der von seiner N\\u00e4he zu den Universit\\u00e4tsst\\u00e4dten Heidelberg und Mannheim profitiert.\\\" - (de.wikipedia.org 10.03.2021)\"\n",
      "            },\n",
      "            \"event_type_name\": \"Gefunden\"\n",
      "        }\n",
      "    ],\n",
      "    \"object_relation_places\": [\n",
      "        {\n",
      "            \"event_id\": 400374,\n",
      "            \"event_type\": 22,\n",
      "            \"time_id\": 0,\n",
      "            \"event_time_certain\": \"j\",\n",
      "            \"people_id\": 0,\n",
      "            \"event_people_certain\": \"j\",\n",
      "            \"place_id\": 3137,\n",
      "            \"event_place_certain\": \"j\",\n",
      "            \"event_note\": \"\",\n",
      "            \"place\": {\n",
      "                \"place_id\": 3137,\n",
      "                \"place_name\": \"R\\u00f6misches Reich\",\n",
      "                \"place_tgn\": 7594740,\n",
      "                \"place_geonames\": 8354456,\n",
      "                \"place_latitude\": 41.88999938964844,\n",
      "                \"place_longitude\": 12.479999542236328,\n",
      "                \"place_note\": \"\\\"Das R\\u00f6mische Reich (lateinisch Imperium Romanum) war das von den R\\u00f6mern, der Stadt Rom bzw. dem r\\u00f6mischen Staat beherrschte Gebiet zwischen dem 8.\\u00a0Jahrhundert v.\\u00a0Chr. und dem 7.\\u00a0Jahrhundert n.\\u00a0Chr., wobei eine eindeutige Abgrenzung weder zur vorr\\u00f6mischen Epoche noch zum Byzantinischen Reich m\\u00f6glich ist. Die Bezeichnung Imperium Romanum f\\u00fcr den r\\u00f6mischen Machtbereich ist seit der Zeit Ciceros belegt. Die antike staatsrechtliche Bezeichnung lautete Senatus Populusque Romanus (S.P.Q.R.) \\u2013 \\u201eDer Senat und das Volk von Rom\\u201c.\\n\\nDie Herrschaftsform wandelte sich im Laufe der Zeit von einer (unsicher belegten) K\\u00f6nigsherrschaft zur Republik und schlie\\u00dflich zum Kaisertum. Die Geschichte des R\\u00f6mischen Reiches l\\u00e4sst sich traditionell grob in vier Phasen gliedern, f\\u00fcr die folgende \\u2013 historisch nicht immer gesicherten \\u2013 Zeitr\\u00e4ume gelten:\\\" - (de.wikipedia.org 03.09.2020)\"\n",
      "            }\n",
      "        },\n",
      "        {\n",
      "            \"event_id\": 400375,\n",
      "            \"event_type\": 22,\n",
      "            \"time_id\": 0,\n",
      "            \"event_time_certain\": \"j\",\n",
      "            \"people_id\": 0,\n",
      "            \"event_people_certain\": \"j\",\n",
      "            \"place_id\": 70649,\n",
      "            \"event_place_certain\": \"j\",\n",
      "            \"event_note\": \"\",\n",
      "            \"place\": {\n",
      "                \"place_id\": 70649,\n",
      "                \"place_name\": \"Lopodunum\",\n",
      "                \"place_tgn\": 0,\n",
      "                \"place_geonames\": 2881980,\n",
      "                \"place_latitude\": 49.47159957885742,\n",
      "                \"place_longitude\": 8.611180305480957,\n",
      "                \"place_note\": \"\\\"Lopodunum war eine r\\u00f6mische Stadt, aus der das heutige Ladenburg (Rhein-Neckar-Kreis, Baden-W\\u00fcrttemberg) hervorgegangen ist. Aus der fr\\u00fchesten Besetzungszeit im letzten Viertel des 1. Jahrhunderts\\u00a0n.\\u00a0Chr. sind zwei Kastelle bekannt, nach deren Aufgabe eine planm\\u00e4\\u00dfige Stadtgr\\u00fcndung erfolgte. Der Beiname der zugeh\\u00f6rigen Verwaltungsk\\u00f6rperschaft (Civitas Ulpia Sueborum Nicrensium) legt nahe, dass dies zur Regierungszeit Kaiser Trajans (98\\u2013117\\u00a0n.\\u00a0Chr.) stattfand. Lopodunum war der Vorort der hier ans\\u00e4ssigen Neckarsueben. Zeugnis dieser Vorortfunktion in r\\u00f6mischer Zeit geben die Reste eines Forums sowie einer monumentalen Basilika. Das antike Ladenburg war einer der bedeutendsten Orte im Hinterland des Obergermanischen Limes bis zu dessen Aufgabe nach der Mitte des 3.\\u00a0Jahrhunderts. In der Sp\\u00e4tantike, als der Rhein wieder die Reichsgrenze bildete, wurde von den R\\u00f6mern erneut eine milit\\u00e4rische Anlage in Form eines L\\u00e4ndeburgus im Stadtgebiet angelegt.\\\" - (de.wikipedia.org 10.03.2021)\"\n",
      "            }\n",
      "        }\n",
      "    ],\n",
      "    \"object_relation_times\": [],\n",
      "    \"object_relation_people\": [],\n",
      "    \"object_literature\": [],\n",
      "    \"object_links\": [],\n",
      "    \"object_tags\": [\n",
      "        {\n",
      "            \"tag_id\": 9736,\n",
      "            \"tag_name\": \"Feinkeramik\",\n",
      "            \"tag_name_en\": \"\",\n",
      "            \"relation_type\": \"tag\",\n",
      "            \"tag_note\": \"\"\n",
      "        },\n",
      "        {\n",
      "            \"tag_id\": 164,\n",
      "            \"tag_name\": \"Gef\\u00e4\\u00df\",\n",
      "            \"tag_name_en\": \"\",\n",
      "            \"relation_type\": \"tag\",\n",
      "            \"tag_note\": \"\"\n",
      "        },\n",
      "        {\n",
      "            \"tag_id\": 52054,\n",
      "            \"tag_name\": \"R\\u00f6misches Kaiserreich\",\n",
      "            \"tag_name_en\": \"\",\n",
      "            \"relation_type\": \"tag\",\n",
      "            \"tag_note\": \"\"\n",
      "        },\n",
      "        {\n",
      "            \"tag_id\": 167,\n",
      "            \"tag_name\": \"Topf\",\n",
      "            \"tag_name_en\": \"\",\n",
      "            \"relation_type\": \"tag\",\n",
      "            \"tag_note\": \"\"\n",
      "        },\n",
      "        {\n",
      "            \"tag_id\": 29841,\n",
      "            \"tag_name\": \"T\\u00f6pferware\",\n",
      "            \"tag_name_en\": \"\",\n",
      "            \"relation_type\": \"tag\",\n",
      "            \"tag_note\": \"\"\n",
      "        }\n",
      "    ],\n",
      "    \"object_series\": [],\n",
      "    \"md_subset\": \"bawue\",\n",
      "    \"comparable_objects\": \"\",\n",
      "    \"inscription\": \"\",\n",
      "    \"expected_language\": \"de\"\n",
      "}\n"
     ]
    }
   ],
   "source": [
    "# Übersicht über die Struktur des Datensatzes\n",
    "import json\n",
    "print(json.dumps(res.json(), indent=4))"
   ]
  },
  {
   "cell_type": "code",
   "execution_count": 19,
   "id": "6d6950eb",
   "metadata": {},
   "outputs": [
    {
     "name": "stdout",
     "output_type": "stream",
     "text": [
      "* objekt_socialmedia (int)\n",
      "* langs (list)\n",
      "* exhibitions (dict)\n",
      "* articles (list)\n",
      "* licence (dict)\n",
      "* additional (list)\n",
      "* transcripts (dict)\n",
      "* reference_to_sources (list)\n",
      "* documents (list)\n",
      "* published_in (list)\n",
      "* markings (list)\n",
      "* object_id (int)\n",
      "* object_inventory_number (str)\n",
      "* object_type (str)\n",
      "* object_name (str)\n",
      "* object_description (str)\n",
      "* object_material_technique (str)\n",
      "* object_dimensions (str)\n",
      "* object_last_updated (str)\n",
      "* object_institution (dict)\n",
      "* object_collection (list)\n",
      "* object_images (list)\n",
      "* object_events (list)\n",
      "* object_relation_places (list)\n",
      "* object_relation_times (list)\n",
      "* object_relation_people (list)\n",
      "* object_literature (list)\n",
      "* object_links (list)\n",
      "* object_tags (list)\n",
      "* object_series (list)\n",
      "* md_subset (str)\n",
      "* comparable_objects (str)\n",
      "* inscription (str)\n",
      "* expected_language (str)\n"
     ]
    }
   ],
   "source": [
    "# Keys und Datentyp des korrespondierenden Werts\n",
    "# im Datensatzobjekt\n",
    "for key, datentyp in res.json().items():\n",
    "    print(f\"* {key} ({type(datentyp).__name__})\")"
   ]
  },
  {
   "cell_type": "code",
   "execution_count": 20,
   "id": "bec2ec08",
   "metadata": {},
   "outputs": [
    {
     "data": {
      "text/plain": [
       "143188"
      ]
     },
     "execution_count": 20,
     "metadata": {},
     "output_type": "execute_result"
    }
   ],
   "source": [
    "# Objekt-ID des Objekts\n",
    "res.json()['object_id']"
   ]
  },
  {
   "cell_type": "code",
   "execution_count": 42,
   "id": "b56f899a",
   "metadata": {},
   "outputs": [
    {
     "data": {
      "text/plain": [
       "'ergänzt: H: 15,2 cm; Dm (Rand): 11,5 cm; Dm (Boden): 6,1 cm; Dm (max.): 17 cm'"
      ]
     },
     "execution_count": 42,
     "metadata": {},
     "output_type": "execute_result"
    }
   ],
   "source": [
    "# Objektmaße\n",
    "res.json()['object_dimensions']"
   ]
  },
  {
   "cell_type": "code",
   "execution_count": 43,
   "id": "54be9608",
   "metadata": {},
   "outputs": [
    {
     "data": {
      "text/plain": [
       "'CC BY-NC-SA'"
      ]
     },
     "execution_count": 43,
     "metadata": {},
     "output_type": "execute_result"
    }
   ],
   "source": [
    "# Metadaten-Lizenz des Objekts\n",
    "res.json()['licence']['metadata_rights_status']"
   ]
  },
  {
   "cell_type": "code",
   "execution_count": 44,
   "id": "9926823b",
   "metadata": {},
   "outputs": [
    {
     "name": "stdout",
     "output_type": "stream",
     "text": [
      "https://asset.museum-digital.org/bawue/images/161/143188-lml_0037-34/roemischer_topf_mit_lippe/roemischer-topf-mit-lippenrand-143188-780341.jpg\n",
      "Lizenz:  CC BY-NC-SA\n"
     ]
    }
   ],
   "source": [
    "# URLs der Bilder zu einem Objekt\n",
    "# Die Bild-URLs setzen sich zusammen aus\n",
    "# URL: https://asset.museum-digital.org/ + Subdomain/Portal-Kürzel + folder + filename_loc\n",
    "imgUrl = \"https://asset.museum-digital.org/\"\n",
    "subdomain = url.rpartition('//')[2].partition('.')[0]\n",
    "\n",
    "for img in res.json()['object_images']:\n",
    "    print(imgUrl + subdomain + \"/\" + img['folder'] + \"/\" + img['filename_loc'])\n",
    "    print(\"Lizenz: \", img['rights'])"
   ]
  },
  {
   "cell_type": "code",
   "execution_count": 46,
   "id": "2045c168",
   "metadata": {},
   "outputs": [
    {
     "name": "stdout",
     "output_type": "stream",
     "text": [
      "https://bawue.museum-digital.de/apis/iiif-presentation/143188/manifest\n"
     ]
    }
   ],
   "source": [
    "# IIIF-Manifest\n",
    "manifestBasis = \"/\".join(url.split('/')[:3])\n",
    "IIIF = f\"{manifestBasis}/apis/iiif-presentation/{objID}/manifest\"\n",
    "print(IIIF)"
   ]
  },
  {
   "cell_type": "code",
   "execution_count": null,
   "id": "c89f6975",
   "metadata": {},
   "outputs": [],
   "source": []
  }
 ],
 "metadata": {
  "kernelspec": {
   "display_name": "Python 3.9",
   "language": "python",
   "name": "python3.9"
  },
  "language_info": {
   "codemirror_mode": {
    "name": "ipython",
    "version": 3
   },
   "file_extension": ".py",
   "mimetype": "text/x-python",
   "name": "python",
   "nbconvert_exporter": "python",
   "pygments_lexer": "ipython3",
   "version": "3.9.0"
  }
 },
 "nbformat": 4,
 "nbformat_minor": 5
}
